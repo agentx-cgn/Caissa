{
 "cells": [
  {
   "cell_type": "code",
   "execution_count": 2,
   "metadata": {},
   "outputs": [
    {
     "name": "stdout",
     "output_type": "stream",
     "text": [
      "eccos.ipynb  eco2.pgn  eco.pgn\teco.utf.pgn\r\n"
     ]
    }
   ],
   "source": [
    "!ls"
   ]
  },
  {
   "cell_type": "markdown",
   "metadata": {},
   "source": [
    "#### eco.utf.pgn  \n",
    "12133 lines  \n",
    " 8087 with content  \n"
   ]
  },
  {
   "cell_type": "code",
   "execution_count": 62,
   "metadata": {},
   "outputs": [
    {
     "name": "stdout",
     "output_type": "stream",
     "text": [
      "8087\n"
     ]
    }
   ],
   "source": [
    "lines = []\n",
    "\n",
    "fEcos = open(\"eco.utf.pgn\", newline=\"\\n\")\n",
    "for line in fEcos :\n",
    "    if len(line) > 2 :\n",
    "        lines.append(line[:-1])\n",
    "fEcos.close()\n",
    "\n",
    "!touch eco.lines.txt\n",
    "hFile = open(\"eco.lines.txt\", mode=\"w\")\n",
    "for line in lines :\n",
    "    hFile.write(line + '\\n')\n",
    "hFile.close()\n",
    "\n",
    "print(len(lines))"
   ]
  },
  {
   "cell_type": "code",
   "execution_count": 121,
   "metadata": {},
   "outputs": [
    {
     "name": "stdout",
     "output_type": "stream",
     "text": [
      "vodes 2014\n",
      "names 2014\n",
      "varis 1646\n",
      "moves 2413\n",
      "codes 2014\n"
     ]
    },
    {
     "data": {
      "text/plain": [
       "[['code', 'A00'],\n",
       " ['name', 'Polish (Sokolsky) opening'],\n",
       " ['move', '1. b4'],\n",
       " [''],\n",
       " ['code', 'A00'],\n",
       " ['name', 'Polish'],\n",
       " ['vari', 'Tuebingen Variation '],\n",
       " ['move', '1. b4 Nh6'],\n",
       " [''],\n",
       " ['code', 'A00'],\n",
       " ['name', 'Polish'],\n",
       " ['vari', 'Outflank Variation '],\n",
       " ['move', '1. b4 c6'],\n",
       " [''],\n",
       " ['code', 'A00'],\n",
       " ['name', \"Benko's Opening\"],\n",
       " ['move', '1. g3'],\n",
       " [''],\n",
       " ['code', 'A00'],\n",
       " ['name', 'Lasker simul special']]"
      ]
     },
     "execution_count": 121,
     "metadata": {},
     "output_type": "execute_result"
    }
   ],
   "source": [
    "tokens = []\n",
    "\n",
    "def translate (lines) :\n",
    "    for line in lines :\n",
    "        if \"[Site \" in line :\n",
    "            token = [\"code\", line[7:-2]]\n",
    "            if (len(tokens)) : tokens.append([''])\n",
    "        elif \"[White \" in line :\n",
    "            token = [\"name\", line[8:-2]]\n",
    "        elif \"[Black \" in line :\n",
    "            token = [\"vari\", line[8:-2]]\n",
    "        else :\n",
    "            token = [\"move\", line]\n",
    "\n",
    "        tokens.append(token)\n",
    "\n",
    "translate(lines)    \n",
    "tokens.append([''])\n",
    "\n",
    "!touch eco.tokens.txt\n",
    "hFile = open(\"eco.tokens.txt\", mode=\"w\")\n",
    "for token in tokens :\n",
    "    hFile.write(str(token) + '\\n')\n",
    "hFile.close()\n",
    "\n",
    "codes = []\n",
    "\n",
    "def sanitize(tokens) : \n",
    "    code = {}\n",
    "    for tokens in tokens :\n",
    "        if tokens[0] == '' :\n",
    "            codes.append(code)\n",
    "            code = {}\n",
    "        if tokens[0] == 'code' : code['code'] = tokens[1]\n",
    "        if tokens[0] == 'name' : code['name'] = tokens[1]\n",
    "        if tokens[0] == 'vari' : code['vari'] = tokens[1]\n",
    "        if tokens[0] == 'move' :\n",
    "            if 'moves' in code :\n",
    "                code['moves'] = code['moves'] + ' ' + tokens[1]\n",
    "            else :\n",
    "                code['moves'] = tokens[1]\n",
    "\n",
    "sanitize(tokens)\n",
    "\n",
    "!touch eco.codes.txt\n",
    "hFile = open(\"eco.codes.txt\", mode=\"w\")\n",
    "for code in codes :\n",
    "    hFile.write(str(code) + '\\n')\n",
    "hFile.close()\n",
    "\n",
    "\n",
    "table = []\n",
    "def tablize(codes) :\n",
    "    for code in codes :\n",
    "        if not 'vari' in code :\n",
    "            line = code['code'] + '\\t' + code['name'] + '\\t\\t' + code['moves']\n",
    "        else :\n",
    "            line = code['code'] + '\\t' + code['name'] + '\\t' + code['vari'] + '\\t' + code['moves']\n",
    "        table.append(line)\n",
    "    \n",
    "tablize(codes)\n",
    "!touch eco.codes.tab\n",
    "hFile = open(\"eco.codes.tab\", mode=\"w\")\n",
    "for line in table :\n",
    "    hFile.write(line + '\\n')\n",
    "hFile.close()\n",
    "\n",
    "print (\"vodes\", len(list(filter(lambda t : t[0] == \"code\", tokens))))\n",
    "print (\"names\", len(list(filter(lambda t : t[0] == \"name\", tokens))))\n",
    "print (\"varis\", len(list(filter(lambda t : t[0] == \"vari\", tokens))))\n",
    "print (\"moves\", len(list(filter(lambda t : t[0] == \"move\", tokens))))\n",
    "print (\"codes\", len(codes))\n",
    "\n",
    "tokens[0:20]"
   ]
  },
  {
   "cell_type": "markdown",
   "metadata": {},
   "source": [
    "#### Corrections name\n",
    "KGD => King's gambit\n",
    "KP  => King's pawn\n",
    "KGA => King's gambit accepted\n",
    "QGD => Queen's Gambit\n",
    "QGA => Queen's gambit accepted"
   ]
  },
  {
   "cell_type": "code",
   "execution_count": 117,
   "metadata": {},
   "outputs": [
    {
     "name": "stdout",
     "output_type": "stream",
     "text": [
      "Done\n"
     ]
    }
   ],
   "source": [
    "tree = {}\n",
    "\n",
    "def parseMoves (moves) :\n",
    "    res = []\n",
    "    for m in moves.split(\" \") :\n",
    "        if not \".\" in m :\n",
    "            res.append(m)\n",
    "    return res\n",
    "\n",
    "def insert(d, moves, data) :\n",
    "    move = moves[0]\n",
    "    if len(moves) == 1 :\n",
    "        if not move in d :\n",
    "            d[move] = {'__': data}\n",
    "        else :\n",
    "            if '__' in d[move] :\n",
    "                print('exists', d, move, data)\n",
    "            else :\n",
    "                d[move].update({'__': data})\n",
    "    else :\n",
    "        if not move in d :\n",
    "            d[move] = {}\n",
    "        insert(d[move], moves[1:], data)\n",
    "    \n",
    "    \n",
    "    \n",
    "for code in codes :\n",
    "    moves = parseMoves(code['moves'])\n",
    "    data  = code['code'] + ' | ' + code['name']\n",
    "    if 'vari' in code : data += ' | ' + code['vari']\n",
    "    insert(tree, moves, data)\n",
    "        \n",
    "\n",
    "\n",
    "!touch eco.tree.txt\n",
    "hFile = open(\"eco.tree.json\", mode=\"w\")\n",
    "hFile.write(json.dumps(tree, sort_keys=True, indent=2))\n",
    "hFile.close()\n",
    "\n",
    "print('Done')"
   ]
  },
  {
   "cell_type": "code",
   "execution_count": 86,
   "metadata": {},
   "outputs": [],
   "source": [
    "import json"
   ]
  },
  {
   "cell_type": "code",
   "execution_count": 112,
   "metadata": {},
   "outputs": [
    {
     "ename": "NameError",
     "evalue": "name 'join' is not defined",
     "output_type": "error",
     "traceback": [
      "\u001b[0;31m---------------------------------------------------------------------------\u001b[0m",
      "\u001b[0;31mNameError\u001b[0m                                 Traceback (most recent call last)",
      "\u001b[0;32m<ipython-input-112-ca88921fe3b2>\u001b[0m in \u001b[0;36m<module>\u001b[0;34m()\u001b[0m\n\u001b[0;32m----> 1\u001b[0;31m \u001b[0mjoin\u001b[0m\u001b[0;34m\u001b[0m\u001b[0;34m\u001b[0m\u001b[0m\n\u001b[0m",
      "\u001b[0;31mNameError\u001b[0m: name 'join' is not defined"
     ]
    }
   ],
   "source": [
    "join"
   ]
  },
  {
   "cell_type": "code",
   "execution_count": 87,
   "metadata": {},
   "outputs": [],
   "source": [
    "json?"
   ]
  },
  {
   "cell_type": "code",
   "execution_count": 90,
   "metadata": {},
   "outputs": [
    {
     "data": {
      "text/plain": [
       "['1', '2', '3', '4']"
      ]
     },
     "execution_count": 90,
     "metadata": {},
     "output_type": "execute_result"
    }
   ],
   "source": [
    "\"1 2 3 4\".split(\" \")"
   ]
  },
  {
   "cell_type": "code",
   "execution_count": 102,
   "metadata": {},
   "outputs": [
    {
     "data": {
      "text/plain": [
       "[2, 3, 4]"
      ]
     },
     "execution_count": 102,
     "metadata": {},
     "output_type": "execute_result"
    }
   ],
   "source": [
    "[1,2,3,4][1:]"
   ]
  },
  {
   "cell_type": "code",
   "execution_count": 101,
   "metadata": {},
   "outputs": [],
   "source": [
    "l = []\n",
    "l??"
   ]
  },
  {
   "cell_type": "code",
   "execution_count": 94,
   "metadata": {},
   "outputs": [
    {
     "name": "stdout",
     "output_type": "stream",
     "text": [
      "Object `update` not found.\n"
     ]
    }
   ],
   "source": [
    "{'b':2}.update?"
   ]
  },
  {
   "cell_type": "code",
   "execution_count": 97,
   "metadata": {},
   "outputs": [
    {
     "data": {
      "text/plain": [
       "{'b': 2, 'a': 1}"
      ]
     },
     "execution_count": 97,
     "metadata": {},
     "output_type": "execute_result"
    }
   ],
   "source": [
    "d = {'b':2}\n",
    "d.update({'a':1})\n",
    "d"
   ]
  },
  {
   "cell_type": "code",
   "execution_count": null,
   "metadata": {},
   "outputs": [],
   "source": [
    "{'b':2}.upate"
   ]
  },
  {
   "cell_type": "code",
   "execution_count": 65,
   "metadata": {},
   "outputs": [
    {
     "data": {
      "text/plain": [
       "['name', 'Polish (Sokolsky) opening']"
      ]
     },
     "execution_count": 65,
     "metadata": {},
     "output_type": "execute_result"
    }
   ],
   "source": [
    "tokens[2]"
   ]
  },
  {
   "cell_type": "code",
   "execution_count": 66,
   "metadata": {},
   "outputs": [
    {
     "data": {
      "text/plain": [
       "\"['name', 'Polish (Sokolsky) opening']\""
      ]
     },
     "execution_count": 66,
     "metadata": {},
     "output_type": "execute_result"
    }
   ],
   "source": [
    "str(tokens[2])"
   ]
  },
  {
   "cell_type": "code",
   "execution_count": 53,
   "metadata": {},
   "outputs": [
    {
     "data": {
      "text/plain": [
       "31"
      ]
     },
     "execution_count": 53,
     "metadata": {},
     "output_type": "execute_result"
    }
   ],
   "source": [
    "len(list(filter(lambda t : t[0] == \"name\", tokens)))"
   ]
  },
  {
   "cell_type": "code",
   "execution_count": 49,
   "metadata": {},
   "outputs": [],
   "source": [
    "filter?"
   ]
  },
  {
   "cell_type": "code",
   "execution_count": 76,
   "metadata": {},
   "outputs": [],
   "source": [
    "a = {'a': 1}\n",
    "a?"
   ]
  },
  {
   "cell_type": "code",
   "execution_count": 59,
   "metadata": {},
   "outputs": [],
   "source": [
    "open?"
   ]
  },
  {
   "cell_type": "code",
   "execution_count": 39,
   "metadata": {},
   "outputs": [
    {
     "data": {
      "text/plain": [
       "['[Site \"A00\"]',\n",
       " '[White \"Polish (Sokolsky) opening\"]',\n",
       " '1. b4',\n",
       " '[Site \"A00\"]',\n",
       " '[White \"Polish\"]',\n",
       " '[Black \"Tuebingen Variation \"]',\n",
       " '1. b4 Nh6',\n",
       " '[Site \"A00\"]',\n",
       " '[White \"Polish\"]',\n",
       " '[Black \"Outflank Variation \"]',\n",
       " '1. b4 c6',\n",
       " '[Site \"A00\"]',\n",
       " '[White \"Benko\\'s Opening\"]',\n",
       " '1. g3',\n",
       " '[Site \"A00\"]',\n",
       " '[White \"Lasker simul special\"]',\n",
       " '1. g3 h5',\n",
       " '[Site \"A00\"]',\n",
       " '[White \"Benko\\'s Opening\"]',\n",
       " '[Black \"reversed Alekhine\"]']"
      ]
     },
     "execution_count": 39,
     "metadata": {},
     "output_type": "execute_result"
    }
   ],
   "source": [
    "lines[0:20]"
   ]
  },
  {
   "cell_type": "code",
   "execution_count": 37,
   "metadata": {},
   "outputs": [
    {
     "data": {
      "text/plain": [
       "False"
      ]
     },
     "execution_count": 37,
     "metadata": {},
     "output_type": "execute_result"
    }
   ],
   "source": [
    "\"235\" in \"1234\""
   ]
  }
 ],
 "metadata": {
  "kernelspec": {
   "display_name": "Python 3",
   "language": "python",
   "name": "python3"
  },
  "language_info": {
   "codemirror_mode": {
    "name": "ipython",
    "version": 3
   },
   "file_extension": ".py",
   "mimetype": "text/x-python",
   "name": "python",
   "nbconvert_exporter": "python",
   "pygments_lexer": "ipython3",
   "version": "3.6.9"
  }
 },
 "nbformat": 4,
 "nbformat_minor": 2
}
