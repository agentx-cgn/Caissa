{
 "cells": [
  {
   "cell_type": "markdown",
   "id": "7d2339a6",
   "metadata": {},
   "source": [
    "# Chess PGNs to sqlite DB\n",
    "## Steps\n",
    "Download  \n",
    "Convert to tsv  \n",
    "Import  \n",
    "Push to GitHub  "
   ]
  },
  {
   "cell_type": "markdown",
   "id": "da5aa9e6",
   "metadata": {},
   "source": [
    "[256 plys is max](https://de.wikipedia.org/wiki/Rekorde_im_Schach)"
   ]
  },
  {
   "cell_type": "code",
   "execution_count": 5,
   "id": "e07088de",
   "metadata": {
    "collapsed": true
   },
   "outputs": [
    {
     "name": "stdout",
     "output_type": "stream",
     "text": [
      "Requirement already satisfied: requests in /Users/noiv/mambaforge/lib/python3.9/site-packages (2.25.1)\r\n",
      "Requirement already satisfied: chardet<5,>=3.0.2 in /Users/noiv/mambaforge/lib/python3.9/site-packages (from requests) (4.0.0)\r\n",
      "Requirement already satisfied: certifi>=2017.4.17 in /Users/noiv/mambaforge/lib/python3.9/site-packages (from requests) (2020.12.5)\r\n",
      "Requirement already satisfied: urllib3<1.27,>=1.21.1 in /Users/noiv/mambaforge/lib/python3.9/site-packages (from requests) (1.26.4)\r\n",
      "Requirement already satisfied: idna<3,>=2.5 in /Users/noiv/mambaforge/lib/python3.9/site-packages (from requests) (2.10)\r\n"
     ]
    }
   ],
   "source": [
    "!pip3 install requests"
   ]
  },
  {
   "cell_type": "markdown",
   "id": "630efd1f",
   "metadata": {},
   "source": [
    "User noiv [Lichess](http://lichess.org/api/games/user/noiv)\n",
    "copy manually to ./lichess_noiv.pgn"
   ]
  },
  {
   "cell_type": "code",
   "execution_count": 1,
   "id": "769633a3",
   "metadata": {},
   "outputs": [
    {
     "name": "stdout",
     "output_type": "stream",
     "text": [
      "[(1, 2020), (2, 2020), (3, 2020), (4, 2020), (5, 2020), (6, 2020), (7, 2020), (8, 2020), (9, 2020), (10, 2020), (11, 2020), (12, 2020), (1, 2021), (2, 2021), (3, 2021), (4, 2021), (5, 2021)]\n",
      "/Users/noiv/mambaforge/bin/python3\n",
      "games-noiv.ipynb            lichess_noiv_2021-05-09.pgn\n",
      "lichess_noiv.pgn\n"
     ]
    }
   ],
   "source": [
    "import sys, os.path, requests\n",
    "from datetime import datetime as dt\n",
    "import sqlite3 as lite\n",
    "\n",
    "\n",
    "start_month = 1\n",
    "start_year  = 2020\n",
    "final_month = dt.now().month\n",
    "final_year  = dt.now().year\n",
    "\n",
    "def months(start_month, start_year, end_month, end_year):\n",
    "    return (((m_y % 12) + 1, int(m_y / 12)) for m_y in\n",
    "            range(12 * start_year + start_month - 1, 12 * end_year + end_month))\n",
    "\n",
    "print(list(months(start_month, start_year, final_month, final_year)))\n",
    "\n",
    "fileLichess = \"~/Projects/CHESS/Notebooks/lichess_noiv_2021-05-09.pgn\"\n",
    "\n",
    "!which python3\n",
    "!ls"
   ]
  },
  {
   "cell_type": "markdown",
   "id": "7c911638",
   "metadata": {},
   "source": [
    "### Helper"
   ]
  },
  {
   "cell_type": "code",
   "execution_count": 8,
   "id": "9248f42b",
   "metadata": {},
   "outputs": [],
   "source": [
    "def months(start_month, start_year, end_month, end_year):\n",
    "    return (((m_y % 12) + 1, int(m_y / 12)) for m_y in\n",
    "            range(12 * start_year + start_month - 1, 12 * end_year + end_month))\n"
   ]
  },
  {
   "cell_type": "code",
   "execution_count": 15,
   "id": "b4485feb",
   "metadata": {},
   "outputs": [
    {
     "name": "stdout",
     "output_type": "stream",
     "text": [
      "[(1, 2020), (2, 2020), (3, 2020), (4, 2020), (5, 2020), (6, 2020), (7, 2020), (8, 2020), (9, 2020), (10, 2020), (11, 2020), (12, 2020), (1, 2021), (2, 2021), (3, 2021), (4, 2021), (5, 2021)]\n"
     ]
    },
    {
     "ename": "FileNotFoundError",
     "evalue": "[Errno 2] No such file or directory: '~/Projects/CHESS/Notebooks/games-noiv.pgn'",
     "output_type": "error",
     "traceback": [
      "\u001b[0;31m---------------------------------------------------------------------------\u001b[0m",
      "\u001b[0;31mFileNotFoundError\u001b[0m                         Traceback (most recent call last)",
      "\u001b[0;32m<ipython-input-15-e5e77062b22e>\u001b[0m in \u001b[0;36m<module>\u001b[0;34m\u001b[0m\n\u001b[1;32m     10\u001b[0m \u001b[0;34m\u001b[0m\u001b[0m\n\u001b[1;32m     11\u001b[0m \u001b[0mr\u001b[0m \u001b[0;34m=\u001b[0m \u001b[0mrequests\u001b[0m\u001b[0;34m.\u001b[0m\u001b[0mget\u001b[0m\u001b[0;34m(\u001b[0m\u001b[0murl\u001b[0m\u001b[0;34m)\u001b[0m\u001b[0;34m\u001b[0m\u001b[0;34m\u001b[0m\u001b[0m\n\u001b[0;32m---> 12\u001b[0;31m \u001b[0;32mwith\u001b[0m \u001b[0mopen\u001b[0m\u001b[0;34m(\u001b[0m\u001b[0mfileGames\u001b[0m\u001b[0;34m,\u001b[0m \u001b[0;34m'wb'\u001b[0m\u001b[0;34m)\u001b[0m \u001b[0;32mas\u001b[0m \u001b[0mf\u001b[0m\u001b[0;34m:\u001b[0m\u001b[0;34m\u001b[0m\u001b[0;34m\u001b[0m\u001b[0m\n\u001b[0m\u001b[1;32m     13\u001b[0m     \u001b[0mf\u001b[0m\u001b[0;34m.\u001b[0m\u001b[0mwrite\u001b[0m\u001b[0;34m(\u001b[0m\u001b[0mr\u001b[0m\u001b[0;34m.\u001b[0m\u001b[0mcontent\u001b[0m\u001b[0;34m)\u001b[0m\u001b[0;34m\u001b[0m\u001b[0;34m\u001b[0m\u001b[0m\n\u001b[1;32m     14\u001b[0m \u001b[0;34m\u001b[0m\u001b[0m\n",
      "\u001b[0;31mFileNotFoundError\u001b[0m: [Errno 2] No such file or directory: '~/Projects/CHESS/Notebooks/games-noiv.pgn'"
     ]
    }
   ],
   "source": [
    "start_month = 1\n",
    "start_year  = 2020\n",
    "final_month = dt.now().month\n",
    "final_year  = dt.now().year  \n",
    "\n",
    "tmpl = \"\"\n",
    "\n",
    "print(list(months(start_month, start_year, final_month, final_year)))\n",
    "\n",
    "## wget https://api.chess.com/pub/player/noiv/games/2020/04/pgn\n",
    "\n",
    "\n",
    "fileLichess = \"~/Projects/CHESS/Notebooks/lichess_noiv_2021-05-09.pgn\"\n",
    "url       = \"http://lichess.org/api/games/user/noiv\"\n",
    "\n",
    "r = requests.get(url)  \n",
    "with open(fileGames, 'wb') as f:\n",
    "    f.write(r.content)\n",
    "    \n",
    "!head -10 {fileGames}\n"
   ]
  },
  {
   "cell_type": "code",
   "execution_count": 20,
   "id": "979c01ab",
   "metadata": {},
   "outputs": [
    {
     "name": "stdout",
     "output_type": "stream",
     "text": [
      "[Event \"Rated Rapid game\"]\r\n",
      "[Site \"https://lichess.org/YDQqicvX\"]\r\n",
      "[Date \"2021.05.04\"]\r\n",
      "[White \"darkstoron2\"]\r\n",
      "[Black \"noiv\"]\r\n",
      "[Result \"1-0\"]\r\n",
      "[UTCDate \"2021.05.04\"]\r\n",
      "[UTCTime \"18:46:12\"]\r\n",
      "[WhiteElo \"1502\"]\r\n",
      "[BlackElo \"1549\"]\r\n",
      "[WhiteRatingDiff \"+7\"]\r\n",
      "[BlackRatingDiff \"-8\"]\r\n",
      "[Variant \"Standard\"]\r\n",
      "[TimeControl \"600+0\"]\r\n",
      "[ECO \"B50\"]\r\n",
      "[Termination \"Normal\"]\r\n",
      "\r\n",
      "1. e4 c5 2. Nf3 d6 3. d4 cxd4 4. Nxd4 Nc6 5. Nc3 Nxd4 6. Qxd4 e5 7. Qd3 a6 8. Be3 Nf6 9. O-O-O b5 10. Nd5 Nxd5 11. Qxd5 Be6 12. Qc6+ Qd7 13. Qxa8+ 1-0\r\n",
      "\r\n",
      "\r\n"
     ]
    }
   ],
   "source": [
    "fileGames = \"~/Projects/CHESS/Notebooks/lichess_noiv_2021-05-09.pgn\"\n",
    "!head -20 {fileGames}"
   ]
  },
  {
   "cell_type": "code",
   "execution_count": 7,
   "id": "2e916666",
   "metadata": {},
   "outputs": [],
   "source": [
    "a = !ls li*.pgn"
   ]
  },
  {
   "cell_type": "code",
   "execution_count": 8,
   "id": "dca45056",
   "metadata": {},
   "outputs": [
    {
     "data": {
      "text/plain": [
       "['lichess_noiv.pgn', 'lichess_noiv_2021-05-09.pgn']"
      ]
     },
     "execution_count": 8,
     "metadata": {},
     "output_type": "execute_result"
    }
   ],
   "source": [
    "a"
   ]
  },
  {
   "cell_type": "code",
   "execution_count": 16,
   "id": "09c06714",
   "metadata": {},
   "outputs": [
    {
     "name": "stdout",
     "output_type": "stream",
     "text": [
      "/Users/noiv/Projects/CHESS/Notebooks/games-noiv.pgn\r\n"
     ]
    }
   ],
   "source": [
    "! ls ~/Projects/CHESS/Notebooks/games-noiv.pgn"
   ]
  },
  {
   "cell_type": "code",
   "execution_count": 23,
   "id": "44fd41a6",
   "metadata": {},
   "outputs": [
    {
     "name": "stdout",
     "output_type": "stream",
     "text": [
      "  % Total    % Received % Xferd  Average Speed   Time    Time     Time  Current\n",
      "                                 Dload  Upload   Total   Spent    Left  Speed\n",
      "100   162  100   162    0     0    566      0 --:--:-- --:--:-- --:--:--   564\n"
     ]
    }
   ],
   "source": [
    "fileLichess = \"~/Projects/CHESS/Notebooks/lichess_noiv.pgn\"\n",
    "!curl -l http://lichess.org/api/games/user/noiv > {fileLichess}"
   ]
  },
  {
   "cell_type": "code",
   "execution_count": null,
   "id": "ebfb57d5",
   "metadata": {},
   "outputs": [],
   "source": []
  }
 ],
 "metadata": {
  "kernelspec": {
   "display_name": "Python 3",
   "language": "python",
   "name": "python3"
  },
  "language_info": {
   "codemirror_mode": {
    "name": "ipython",
    "version": 3
   },
   "file_extension": ".py",
   "mimetype": "text/x-python",
   "name": "python",
   "nbconvert_exporter": "python",
   "pygments_lexer": "ipython3",
   "version": "3.9.2"
  }
 },
 "nbformat": 4,
 "nbformat_minor": 5
}
